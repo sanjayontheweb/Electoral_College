{
  "nbformat": 4,
  "nbformat_minor": 0,
  "metadata": {
    "colab": {
      "name": "Soy_CladeFinder.ipynb",
      "provenance": [],
      "authorship_tag": "ABX9TyO0OY+HGl6tANE/Uy9yM9cf",
      "include_colab_link": true
    },
    "kernelspec": {
      "name": "python3",
      "display_name": "Python 3"
    },
    "language_info": {
      "name": "python"
    }
  },
  "cells": [
    {
      "cell_type": "markdown",
      "metadata": {
        "id": "view-in-github",
        "colab_type": "text"
      },
      "source": [
        "<a href=\"https://colab.research.google.com/github/sanjayontheweb/Electoral_College/blob/master/Soy_CladeFinder.ipynb\" target=\"_parent\"><img src=\"https://colab.research.google.com/assets/colab-badge.svg\" alt=\"Open In Colab\"/></a>"
      ]
    },
    {
      "cell_type": "code",
      "metadata": {
        "colab": {
          "base_uri": "https://localhost:8080/"
        },
        "id": "EMFf1AgmrH5v",
        "outputId": "71c4306a-e699-444c-a3ee-135224551994"
      },
      "source": [
        "##This block takes 4-5 minutes\n",
        "import pandas as pd\n",
        "import numpy as np\n",
        "!pip install -q condacolab\n",
        "import condacolab\n",
        "condacolab.install()\n",
        "!conda install -c bioconda hmmer "
      ],
      "execution_count": 2,
      "outputs": [
        {
          "output_type": "stream",
          "name": "stdout",
          "text": [
            "✨🍰✨ Everything looks OK!\n",
            "Collecting package metadata (current_repodata.json): - \b\b\\ \b\b| \b\b/ \b\b- \b\b\\ \b\b| \b\b/ \b\b- \b\b\\ \b\b| \b\b/ \b\b- \b\b\\ \b\b| \b\b/ \b\b- \b\b\\ \b\b| \b\b/ \b\b- \b\bdone\n",
            "Solving environment: | \b\b/ \b\b- \b\b\\ \b\b| \b\b/ \b\b- \b\b\\ \b\bdone\n",
            "\n",
            "# All requested packages already installed.\n",
            "\n"
          ]
        }
      ]
    },
    {
      "cell_type": "code",
      "metadata": {
        "colab": {
          "base_uri": "https://localhost:8080/"
        },
        "id": "XpgEVvWF3rO5",
        "outputId": "ae454c98-0aad-4f9a-ea49-a0d09090018a"
      },
      "source": [
        "%rm -rf Soy_NLRome/\n",
        "!git clone https://github.com/daniilprigozhin/Soy_NLRome.git\n",
        "!ls"
      ],
      "execution_count": 3,
      "outputs": [
        {
          "output_type": "stream",
          "name": "stdout",
          "text": [
            "Cloning into 'Soy_NLRome'...\n",
            "remote: Enumerating objects: 3630, done.\u001b[K\n",
            "remote: Total 3630 (delta 0), reused 0 (delta 0), pack-reused 3630\u001b[K\n",
            "Receiving objects: 100% (3630/3630), 19.85 MiB | 13.40 MiB/s, done.\n",
            "Resolving deltas: 100% (1313/1313), done.\n",
            "Checking out files: 100% (3701/3701), done.\n",
            " Clade_HMM\t\t   Soy_NLRome\n",
            " condacolab_install.log   'Soy_NLRome_GeneTable (1).txt'\n",
            " Int10225_32_43_L_16.hmm  'Soy_NLRome_GeneTable (2).txt'\n",
            " sample_data\t\t   Soy_NLRome_GeneTable.txt\n"
          ]
        }
      ]
    },
    {
      "cell_type": "code",
      "metadata": {
        "colab": {
          "base_uri": "https://localhost:8080/"
        },
        "id": "PCKKs_q58_Xs",
        "outputId": "f56e0276-835a-4d50-e1e1-a6accdb6eb17"
      },
      "source": [
        "cd Soy_NLRome/"
      ],
      "execution_count": 4,
      "outputs": [
        {
          "output_type": "stream",
          "name": "stdout",
          "text": [
            " \u001b[0m\u001b[01;34mClade_HMM\u001b[0m/                \u001b[01;34mSoy_NLRome\u001b[0m/\n",
            " condacolab_install.log   'Soy_NLRome_GeneTable (1).txt'\n",
            " Int10225_32_43_L_16.hmm  'Soy_NLRome_GeneTable (2).txt'\n",
            " \u001b[01;34msample_data\u001b[0m/              Soy_NLRome_GeneTable.txt\n"
          ]
        }
      ]
    },
    {
      "cell_type": "code",
      "metadata": {
        "colab": {
          "base_uri": "https://localhost:8080/",
          "height": 424
        },
        "id": "jAFYoXT6rRR3",
        "outputId": "5f920d69-cff3-4562-880a-e470ef45701e"
      },
      "source": [
        "common = pd.read_csv(\"Soy_NLRome_GeneTable.txt\", sep='\\t')\n",
        "common"
      ],
      "execution_count": 5,
      "outputs": [
        {
          "output_type": "execute_result",
          "data": {
            "text/html": [
              "<div>\n",
              "<style scoped>\n",
              "    .dataframe tbody tr th:only-of-type {\n",
              "        vertical-align: middle;\n",
              "    }\n",
              "\n",
              "    .dataframe tbody tr th {\n",
              "        vertical-align: top;\n",
              "    }\n",
              "\n",
              "    .dataframe thead th {\n",
              "        text-align: right;\n",
              "    }\n",
              "</style>\n",
              "<table border=\"1\" class=\"dataframe\">\n",
              "  <thead>\n",
              "    <tr style=\"text-align: right;\">\n",
              "      <th></th>\n",
              "      <th>Gene</th>\n",
              "      <th>Clade_0</th>\n",
              "      <th>Clade_1</th>\n",
              "      <th>Clade_2</th>\n",
              "      <th>Clade_3</th>\n",
              "      <th>Clade</th>\n",
              "      <th>Ecotype</th>\n",
              "      <th>Allele</th>\n",
              "      <th>File</th>\n",
              "      <th>HV</th>\n",
              "    </tr>\n",
              "  </thead>\n",
              "  <tbody>\n",
              "    <tr>\n",
              "      <th>0</th>\n",
              "      <td>GWHPACEA009211</td>\n",
              "      <td>Int7287_409</td>\n",
              "      <td>Int7287_409_656_R_36</td>\n",
              "      <td>Int7287_409_656_R_36</td>\n",
              "      <td>NaN</td>\n",
              "      <td>Int7287_409_656_R_36</td>\n",
              "      <td>GWHPACEA</td>\n",
              "      <td>1</td>\n",
              "      <td>RAxML_tree_pbNB-ARC/Clade_Refinement_1/Int7287...</td>\n",
              "      <td>0</td>\n",
              "    </tr>\n",
              "    <tr>\n",
              "      <th>1</th>\n",
              "      <td>W05_GLYSO_03G006025_1_P</td>\n",
              "      <td>Int7287_409</td>\n",
              "      <td>Int7287_409_656_R_36</td>\n",
              "      <td>Int7287_409_656_R_36</td>\n",
              "      <td>NaN</td>\n",
              "      <td>Int7287_409_656_R_36</td>\n",
              "      <td>W05</td>\n",
              "      <td>1</td>\n",
              "      <td>RAxML_tree_pbNB-ARC/Clade_Refinement_1/Int7287...</td>\n",
              "      <td>0</td>\n",
              "    </tr>\n",
              "    <tr>\n",
              "      <th>2</th>\n",
              "      <td>GWHPACEK008274</td>\n",
              "      <td>Int7287_409</td>\n",
              "      <td>Int7287_409_656_R_36</td>\n",
              "      <td>Int7287_409_656_R_36</td>\n",
              "      <td>NaN</td>\n",
              "      <td>Int7287_409_656_R_36</td>\n",
              "      <td>GWHPACEK</td>\n",
              "      <td>1</td>\n",
              "      <td>RAxML_tree_pbNB-ARC/Clade_Refinement_1/Int7287...</td>\n",
              "      <td>0</td>\n",
              "    </tr>\n",
              "    <tr>\n",
              "      <th>3</th>\n",
              "      <td>GWHPACED008491</td>\n",
              "      <td>Int7287_409</td>\n",
              "      <td>Int7287_409_656_R_36</td>\n",
              "      <td>Int7287_409_656_R_36</td>\n",
              "      <td>NaN</td>\n",
              "      <td>Int7287_409_656_R_36</td>\n",
              "      <td>GWHPACED</td>\n",
              "      <td>1</td>\n",
              "      <td>RAxML_tree_pbNB-ARC/Clade_Refinement_1/Int7287...</td>\n",
              "      <td>0</td>\n",
              "    </tr>\n",
              "    <tr>\n",
              "      <th>4</th>\n",
              "      <td>GLYMA_ZH13_03G036200_1_P</td>\n",
              "      <td>Int7287_409</td>\n",
              "      <td>Int7287_409_656_R_36</td>\n",
              "      <td>Int7287_409_656_R_36</td>\n",
              "      <td>NaN</td>\n",
              "      <td>Int7287_409_656_R_36</td>\n",
              "      <td>ZH13</td>\n",
              "      <td>1</td>\n",
              "      <td>RAxML_tree_pbNB-ARC/Clade_Refinement_1/Int7287...</td>\n",
              "      <td>0</td>\n",
              "    </tr>\n",
              "    <tr>\n",
              "      <th>...</th>\n",
              "      <td>...</td>\n",
              "      <td>...</td>\n",
              "      <td>...</td>\n",
              "      <td>...</td>\n",
              "      <td>...</td>\n",
              "      <td>...</td>\n",
              "      <td>...</td>\n",
              "      <td>...</td>\n",
              "      <td>...</td>\n",
              "      <td>...</td>\n",
              "    </tr>\n",
              "    <tr>\n",
              "      <th>6977</th>\n",
              "      <td>GWHPACEN024267</td>\n",
              "      <td>Int11805_6</td>\n",
              "      <td>Int11805_6</td>\n",
              "      <td>NaN</td>\n",
              "      <td>NaN</td>\n",
              "      <td>Int11805_6</td>\n",
              "      <td>GWHPACEN</td>\n",
              "      <td>1</td>\n",
              "      <td>RAxML_tree_pbNB-ARC/Initial_Clades/Int11805_6.afa</td>\n",
              "      <td>0</td>\n",
              "    </tr>\n",
              "    <tr>\n",
              "      <th>6978</th>\n",
              "      <td>GWHPACDZ024107</td>\n",
              "      <td>Int11805_6</td>\n",
              "      <td>Int11805_6</td>\n",
              "      <td>NaN</td>\n",
              "      <td>NaN</td>\n",
              "      <td>Int11805_6</td>\n",
              "      <td>GWHPACDZ</td>\n",
              "      <td>1</td>\n",
              "      <td>RAxML_tree_pbNB-ARC/Initial_Clades/Int11805_6.afa</td>\n",
              "      <td>0</td>\n",
              "    </tr>\n",
              "    <tr>\n",
              "      <th>6979</th>\n",
              "      <td>GWHPACED023555</td>\n",
              "      <td>Int11805_6</td>\n",
              "      <td>Int11805_6</td>\n",
              "      <td>NaN</td>\n",
              "      <td>NaN</td>\n",
              "      <td>Int11805_6</td>\n",
              "      <td>GWHPACED</td>\n",
              "      <td>1</td>\n",
              "      <td>RAxML_tree_pbNB-ARC/Initial_Clades/Int11805_6.afa</td>\n",
              "      <td>0</td>\n",
              "    </tr>\n",
              "    <tr>\n",
              "      <th>6980</th>\n",
              "      <td>W05_GLYSO_06G016310_1_P</td>\n",
              "      <td>Int11805_6</td>\n",
              "      <td>Int11805_6</td>\n",
              "      <td>NaN</td>\n",
              "      <td>NaN</td>\n",
              "      <td>Int11805_6</td>\n",
              "      <td>W05</td>\n",
              "      <td>1</td>\n",
              "      <td>RAxML_tree_pbNB-ARC/Initial_Clades/Int11805_6.afa</td>\n",
              "      <td>0</td>\n",
              "    </tr>\n",
              "    <tr>\n",
              "      <th>6981</th>\n",
              "      <td>GLYMA_ZH13_06G281000_1_P</td>\n",
              "      <td>Int11805_6</td>\n",
              "      <td>Int11805_6</td>\n",
              "      <td>NaN</td>\n",
              "      <td>NaN</td>\n",
              "      <td>Int11805_6</td>\n",
              "      <td>ZH13</td>\n",
              "      <td>1</td>\n",
              "      <td>RAxML_tree_pbNB-ARC/Initial_Clades/Int11805_6.afa</td>\n",
              "      <td>0</td>\n",
              "    </tr>\n",
              "  </tbody>\n",
              "</table>\n",
              "<p>6982 rows × 10 columns</p>\n",
              "</div>"
            ],
            "text/plain": [
              "                          Gene  ... HV\n",
              "0               GWHPACEA009211  ...  0\n",
              "1      W05_GLYSO_03G006025_1_P  ...  0\n",
              "2               GWHPACEK008274  ...  0\n",
              "3               GWHPACED008491  ...  0\n",
              "4     GLYMA_ZH13_03G036200_1_P  ...  0\n",
              "...                        ...  ... ..\n",
              "6977            GWHPACEN024267  ...  0\n",
              "6978            GWHPACDZ024107  ...  0\n",
              "6979            GWHPACED023555  ...  0\n",
              "6980   W05_GLYSO_06G016310_1_P  ...  0\n",
              "6981  GLYMA_ZH13_06G281000_1_P  ...  0\n",
              "\n",
              "[6982 rows x 10 columns]"
            ]
          },
          "metadata": {},
          "execution_count": 5
        }
      ]
    },
    {
      "cell_type": "code",
      "metadata": {
        "colab": {
          "base_uri": "https://localhost:8080/",
          "height": 35
        },
        "id": "ew1VpASd8Dma",
        "outputId": "4bcd08bb-daaf-49f8-e905-5969d9d4e272"
      },
      "source": [
        "pwd"
      ],
      "execution_count": 6,
      "outputs": [
        {
          "output_type": "execute_result",
          "data": {
            "application/vnd.google.colaboratory.intrinsic+json": {
              "type": "string"
            },
            "text/plain": [
              "'/content'"
            ]
          },
          "metadata": {},
          "execution_count": 6
        }
      ]
    },
    {
      "cell_type": "code",
      "metadata": {
        "id": "E4k6TU06ryO9"
      },
      "source": [
        "clades = common[[\"Clade\", \"File\"]].groupby(\"Clade\").first()"
      ],
      "execution_count": 7,
      "outputs": []
    },
    {
      "cell_type": "code",
      "metadata": {
        "id": "_WPCxx8F63OV"
      },
      "source": [
        "!mkdir Clade_HMM\n",
        "for row in clades.iterrows():\n",
        "  !hmmbuild -n {row[0]} Clade_HMM/{row[0]}.hmm Soy_NLRome/{row[1][\"File\"]}"
      ],
      "execution_count": null,
      "outputs": []
    },
    {
      "cell_type": "code",
      "metadata": {
        "colab": {
          "base_uri": "https://localhost:8080/"
        },
        "id": "dWER0Ug3ByMi",
        "outputId": "9afe84f8-8a1c-4845-86ec-19566f8c3e9e"
      },
      "source": [
        "cd Soy_NLRome/Clade_HMM/"
      ],
      "execution_count": 41,
      "outputs": [
        {
          "output_type": "stream",
          "name": "stdout",
          "text": [
            "/content/Soy_NLRome/Clade_HMM\n"
          ]
        }
      ]
    },
    {
      "cell_type": "code",
      "metadata": {
        "colab": {
          "base_uri": "https://localhost:8080/"
        },
        "id": "ocn6zJ6OB4-R",
        "outputId": "223f49ba-3df5-4172-86b5-dc93de7d4d11"
      },
      "source": [
        "ls"
      ],
      "execution_count": 43,
      "outputs": [
        {
          "output_type": "stream",
          "name": "stdout",
          "text": [
            "Int10225_32_43_L_16.hmm\n",
            "Int10225_32_43_R_16.hmm\n",
            "Int10257_41.hmm\n",
            "Int10309_34_37_L_19.hmm\n",
            "Int10309_34_37_R_15.hmm\n",
            "Int10346_43_59_L_17.hmm\n",
            "Int10346_43_59_R_26.hmm\n",
            "Int10388_28_41_L_22.hmm\n",
            "Int10388_28_41_R_6.hmm\n",
            "Int10417_29.hmm\n",
            "Int10445_27.hmm\n",
            "Int10472_18_27_L_9.hmm\n",
            "Int10472_18_27_R_5.hmm\n",
            "Int10472_18_31_R_4.hmm\n",
            "Int10490_338_373_L_35.hmm\n",
            "Int10490_338_374_R_27.hmm\n",
            "Int10490_338_401_R_26.hmm\n",
            "Int10490_338_428_R_34.hmm\n",
            "Int10490_338_461_R_12.hmm\n",
            "Int10490_338_475_R_23.hmm\n",
            "Int10490_338_499_R_26.hmm\n",
            "Int10490_338_524_R_26.hmm\n",
            "Int10490_338_549_R_46.hmm\n",
            "Int10490_338_595_R_8.hmm\n",
            "Int10490_338_603_R_19.hmm\n",
            "Int10490_338_622_R_27.hmm\n",
            "Int10490_338_648_R_27.hmm\n",
            "Int10841_54_73_L_25.hmm\n",
            "Int10841_54_75_R_22.hmm\n",
            "Int10841_54_97_R_5.hmm\n",
            "Int10894_22.hmm\n",
            "Int10916_135_156_L_23.hmm\n",
            "Int10916_135_157_R_4.hmm\n",
            "Int10916_135_161_R_19.hmm\n",
            "Int10916_135_180_R_30.hmm\n",
            "Int10916_135_209_R_59.hmm\n",
            "Int11051_30_40_L_12.hmm\n",
            "Int11051_30_40_R_11.hmm\n",
            "Int11051_30_51_R_7.hmm\n",
            "Int11080_32_53_L_21.hmm\n",
            "Int11080_32_53_R_11.hmm\n",
            "Int11113_180_194_L_18.hmm\n",
            "Int11113_180_197_R_21.hmm\n",
            "Int11113_180_218_R_17.hmm\n",
            "Int11113_180_234_R_17.hmm\n",
            "Int11113_180_251_R_20.hmm\n",
            "Int11113_180_271_R_30.hmm\n",
            "Int11113_180_303_R_16.hmm\n",
            "Int11113_180_318_R_27.hmm\n",
            "Int11113_180_345_R_7.hmm\n",
            "Int11113_180_351_R_5.hmm\n",
            "Int11293_117_147_L_32.hmm\n",
            "Int11293_117_150_R_22.hmm\n",
            "Int11293_117_171_R_20.hmm\n",
            "Int11293_117_190_R_22.hmm\n",
            "Int11293_117_211_R_21.hmm\n",
            "Int11409_395_471_L_74_108_R_24.hmm\n",
            "Int11409_395_471_L_74_80_L_22.hmm\n",
            "Int11409_395_471_L_74_80_R_24.hmm\n",
            "Int11409_395_471_R_144_154_L_14.hmm\n",
            "Int11409_395_471_R_144_154_R_45_58_L_32.hmm\n",
            "Int11409_395_471_R_144_154_R_45_58_R_13.hmm\n",
            "Int11409_395_471_R_144_157_R_12.hmm\n",
            "Int11409_395_471_R_144_170_R_11.hmm\n",
            "Int11409_395_471_R_144_183_R_6.hmm\n",
            "Int11409_395_471_R_144_188_R_9.hmm\n",
            "Int11409_395_471_R_144_198_R_24.hmm\n",
            "Int11409_395_471_R_144_221_R_14.hmm\n",
            "Int11409_395_614_R_22.hmm\n",
            "Int11409_395_636_R_29.hmm\n",
            "Int11409_395_666_R_23.hmm\n",
            "Int11409_395_688_R_22.hmm\n",
            "Int11409_395_709_R_43.hmm\n",
            "Int11409_395_755_R_28_32_L_25.hmm\n",
            "Int11805_6.hmm\n",
            "Int11813_25.hmm\n",
            "Int11837_52_69_L_24.hmm\n",
            "Int11837_52_71_R_26.hmm\n",
            "Int11890_361_405_L_52_68_L_28.hmm\n",
            "Int11890_361_405_L_52_69_R_23.hmm\n",
            "Int11890_361_405_R_36_64_L_31.hmm\n",
            "Int11890_361_407_R_18_31_L_14.hmm\n",
            "Int11890_361_407_R_18_31_R_4.hmm\n",
            "Int11890_361_425_R_29.hmm\n",
            "Int11890_361_455_R_50_60_L_13.hmm\n",
            "Int11890_361_455_R_50_60_R_24.hmm\n",
            "Int11890_361_455_R_50_61_R_13.hmm\n",
            "Int11890_361_504_R_81_110_R_7.hmm\n",
            "Int11890_361_504_R_81_117_R_5.hmm\n",
            "Int11890_361_504_R_81_85_L_10.hmm\n",
            "Int11890_361_504_R_81_86_R_39_54_L_23.hmm\n",
            "Int11890_361_504_R_81_86_R_39_54_R_7.hmm\n",
            "Int11890_361_504_R_81_86_R_39_57_R_9.hmm\n",
            "Int11890_361_504_R_81_93_R_17.hmm\n",
            "Int11890_361_584_R_15.hmm\n",
            "Int11890_361_599_R_29_37_L_8.hmm\n",
            "Int11890_361_599_R_29_38_R_7.hmm\n",
            "Int11890_361_599_R_29_44_R_14.hmm\n",
            "Int11890_361_628_R_48_55_L_7.hmm\n",
            "Int11890_361_628_R_48_55_R_14_19_L_5.hmm\n",
            "Int11890_361_628_R_48_55_R_14_19_R_9.hmm\n",
            "Int11890_361_628_R_48_90_R_6.hmm\n",
            "Int12253_29_38_L_16_28_L_14_19_L_6.hmm\n",
            "Int12253_29_38_L_16_28_L_14_19_R_8.hmm\n",
            "Int12253_29_39_R_11.hmm\n",
            "Int12285_28_44_L_16.hmm\n",
            "Int12285_28_45_R_11.hmm\n",
            "Int12312_35_63_L_28.hmm\n",
            "Int12312_35_65_R_5.hmm\n",
            "Int12346_39_55_L_22.hmm\n",
            "Int12346_39_55_R_17.hmm\n",
            "Int12386_211_240_L_132_145_L_13.hmm\n",
            "Int12386_211_240_L_132_145_R_69.hmm\n",
            "Int12386_211_240_L_132_198_R_5.hmm\n",
            "Int12386_211_240_L_132_202_R_28.hmm\n",
            "Int12386_211_240_L_132_247_R_17.hmm\n",
            "Int12386_211_241_R_28.hmm\n",
            "Int12386_211_242_R_27.hmm\n",
            "Int12386_211_295_R_24.hmm\n",
            "Int12633_57_86_L_29.hmm\n",
            "Int12633_57_86_R_28.hmm\n",
            "Int12689_54_66_L_26.hmm\n",
            "Int12689_54_66_R_28.hmm\n",
            "Int12744_100_122_L_44.hmm\n",
            "Int12744_100_122_R_56_82_L_29.hmm\n",
            "Int12744_100_122_R_56_82_R_27.hmm\n",
            "Int12847_58_80_L_29.hmm\n",
            "Int12847_58_80_R_29.hmm\n",
            "Int12905_55_74_L_29.hmm\n",
            "Int12905_55_74_R_26.hmm\n",
            "Int12963_295_311_L_169_205_L_143.hmm\n",
            "Int12963_295_311_L_169_205_R_26.hmm\n",
            "Int12963_295_311_R_32.hmm\n",
            "Int12963_295_344_R_26.hmm\n",
            "Int12963_295_369_R_37.hmm\n",
            "Int12963_295_406_R_28.hmm\n",
            "Int13273_240_289_L_206.hmm\n",
            "Int13273_240_289_R_21.hmm\n",
            "Int13273_240_309_R_13.hmm\n",
            "Int13537_99_110_L_17.hmm\n",
            "Int13537_99_112_R_27.hmm\n",
            "Int13537_99_138_R_7.hmm\n",
            "Int13537_99_145_R_25.hmm\n",
            "Int13537_99_169_R_23.hmm\n",
            "Int13635_63_106_R_20.hmm\n",
            "Int13635_63_89_L_26.hmm\n",
            "Int13635_63_90_R_17.hmm\n",
            "Int13698_25.hmm\n",
            "Int13722_21.hmm\n",
            "Int7287_409_656_L_353.hmm\n",
            "Int7287_409_656_R_36.hmm\n",
            "Int7287_409_711_R_20.hmm\n",
            "Int7289_198_284_R_8.hmm\n",
            "Int7289_198_292_L_140.hmm\n",
            "Int7289_198_292_R_30.hmm\n",
            "Int7289_198_321_R_20.hmm\n",
            "Int7491_119_141_L_41.hmm\n",
            "Int7491_119_143_R_50_76_L_27.hmm\n",
            "Int7491_119_143_R_50_76_R_23.hmm\n",
            "Int7491_119_194_R_25.hmm\n",
            "Int7609_28.hmm\n",
            "Int7638_25.hmm\n",
            "Int7663_158_221_L_81.hmm\n",
            "Int7663_158_225_R_23.hmm\n",
            "Int7663_158_248_R_22.hmm\n",
            "Int7663_158_269_R_29.hmm\n",
            "Int7822_57.hmm\n",
            "Int7884_206_253_R_38.hmm\n",
            "Int7884_206_291_R_8.hmm\n",
            "Int7884_206_319_L_89.hmm\n",
            "Int7884_206_319_R_57_71_L_24.hmm\n",
            "Int7884_206_319_R_57_71_R_33_42_L_7.hmm\n",
            "Int7884_206_319_R_57_71_R_33_42_R_23.hmm\n",
            "Int7884_206_366_R_13.hmm\n",
            "Int8109_24.hmm\n",
            "Int8132_118_171_L_85_108_L_23.hmm\n",
            "Int8132_118_171_L_85_108_R_62.hmm\n",
            "Int8132_118_171_R_33.hmm\n",
            "Int8249_26.hmm\n",
            "Int8275_250_264_L_18.hmm\n",
            "Int8275_250_264_R_62_78_L_25.hmm\n",
            "Int8275_250_264_R_62_78_R_37.hmm\n",
            "Int8275_250_331_R_28.hmm\n",
            "Int8275_250_358_R_27.hmm\n",
            "Int8275_250_384_R_25.hmm\n",
            "Int8275_250_409_R_28.hmm\n",
            "Int8275_250_436_R_27.hmm\n",
            "Int8275_250_463_R_4.hmm\n",
            "Int8275_250_467_R_29.hmm\n",
            "Int8539_21.hmm\n",
            "Int8559_390_422_L_64_81_L_54_80_L_27.hmm\n",
            "Int8559_390_422_L_64_81_L_54_80_R_27.hmm\n",
            "Int8559_390_422_L_64_81_R_10.hmm\n",
            "Int8559_390_425_R_204.hmm\n",
            "Int8559_390_628_R_29.hmm\n",
            "Int8559_390_656_R_24.hmm\n",
            "Int8559_390_679_R_28.hmm\n",
            "Int8559_390_706_R_20.hmm\n",
            "Int8559_390_725_R_21.hmm\n",
            "Int8998_23_13_L_22.hmm\n",
            "Int9024_309_319_L_28.hmm\n",
            "Int9024_309_319_R_168_181_L_26.hmm\n",
            "Int9024_309_319_R_168_181_R_76.hmm\n",
            "Int9024_309_319_R_168_182_R_29.hmm\n",
            "Int9024_309_319_R_168_278_R_28.hmm\n",
            "Int9024_309_319_R_168_305_R_9.hmm\n",
            "Int9024_309_321_R_23.hmm\n",
            "Int9024_309_343_R_11.hmm\n",
            "Int9024_309_356_R_26.hmm\n",
            "Int9024_309_381_R_23.hmm\n",
            "Int9024_309_403_R_30.hmm\n",
            "Int9342_188_247_L_79_129_R_25.hmm\n",
            "Int9342_188_247_L_79_91_L_16.hmm\n",
            "Int9342_188_247_L_79_91_R_19_23_L_4.hmm\n",
            "Int9342_188_247_L_79_91_R_19_23_R_5.hmm\n",
            "Int9342_188_247_L_79_91_R_19_24_R_5.hmm\n",
            "Int9342_188_247_L_79_91_R_19_34_R_4.hmm\n",
            "Int9342_188_247_L_79_98_R_19.hmm\n",
            "Int9342_188_250_R_27.hmm\n",
            "Int9342_188_277_R_57.hmm\n",
            "Int9342_188_336_R_20.hmm\n",
            "Int9532_24.hmm\n",
            "Int9555_160_203_R_23.hmm\n",
            "Int9555_160_226_L_93_106_L_73_116_L_64.hmm\n",
            "Int9555_160_226_L_93_106_L_73_116_R_9.hmm\n",
            "Int9555_160_226_L_93_106_R_20.hmm\n",
            "Int9555_160_227_R_20.hmm\n",
            "Int9555_160_246_R_24.hmm\n",
            "Int9721_57_85_L_28.hmm\n",
            "Int9721_57_85_R_29.hmm\n",
            "Int9778_403_421_L_27.hmm\n",
            "Int9778_403_421_R_29.hmm\n",
            "Int9778_403_423_R_57_66_L_29.hmm\n",
            "Int9778_403_423_R_57_66_R_28.hmm\n",
            "Int9778_403_482_R_27.hmm\n",
            "Int9778_403_509_R_83_122_L_41.hmm\n",
            "Int9778_403_509_R_83_122_R_42_49_L_14.hmm\n",
            "Int9778_403_509_R_83_122_R_42_49_R_27.hmm\n",
            "Int9778_403_591_R_41.hmm\n",
            "Int9778_403_630_R_26.hmm\n",
            "Int9778_403_657_R_59.hmm\n",
            "Int9778_403_716_R_26.hmm\n",
            "Int9778_403_770_R_27.hmm\n"
          ]
        }
      ]
    },
    {
      "cell_type": "code",
      "metadata": {
        "colab": {
          "base_uri": "https://localhost:8080/"
        },
        "id": "tEdnmJXjB5t8",
        "outputId": "61604492-0cae-48ef-f5a7-5fb20cc5eafb"
      },
      "source": [
        "%%shell\n",
        "cat *.hmm > All_Clades.hmm"
      ],
      "execution_count": 44,
      "outputs": [
        {
          "output_type": "execute_result",
          "data": {
            "text/plain": [
              ""
            ]
          },
          "metadata": {},
          "execution_count": 44
        }
      ]
    },
    {
      "cell_type": "code",
      "metadata": {
        "id": "1SuHkkCLDOmg"
      },
      "source": [
        "ls"
      ],
      "execution_count": null,
      "outputs": []
    },
    {
      "cell_type": "code",
      "metadata": {
        "colab": {
          "base_uri": "https://localhost:8080/"
        },
        "id": "rhzQ0fbkDQh-",
        "outputId": "b4ff834d-aec9-4084-f18d-f97f568cba31"
      },
      "source": [
        "!head All_Clades.hmm"
      ],
      "execution_count": 47,
      "outputs": [
        {
          "output_type": "stream",
          "name": "stdout",
          "text": [
            "HMMER3/f [3.3.2 | Nov 2020]\n",
            "NAME  Int10225_32_43_L_16\n",
            "LENG  846\n",
            "ALPH  amino\n",
            "RF    no\n",
            "MM    no\n",
            "CONS  yes\n",
            "CS    no\n",
            "MAP   yes\n",
            "DATE  Fri Oct 22 03:11:46 2021\n"
          ]
        }
      ]
    },
    {
      "cell_type": "code",
      "metadata": {
        "colab": {
          "base_uri": "https://localhost:8080/"
        },
        "id": "wujTShfrDVrv",
        "outputId": "5ed03940-528e-4120-a2d9-8c6f83142f63"
      },
      "source": [
        "!wc All_Clades.hmm"
      ],
      "execution_count": 49,
      "outputs": [
        {
          "output_type": "stream",
          "name": "stdout",
          "text": [
            "   910317  16018196 140520604 All_Clades.hmm\n"
          ]
        }
      ]
    },
    {
      "cell_type": "code",
      "metadata": {
        "id": "YNlJksHxDcyO"
      },
      "source": [
        ""
      ],
      "execution_count": null,
      "outputs": []
    }
  ]
}